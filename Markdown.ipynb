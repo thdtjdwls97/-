{
  "nbformat": 4,
  "nbformat_minor": 0,
  "metadata": {
    "colab": {
      "provenance": [],
      "collapsed_sections": [],
      "toc_visible": true
    },
    "kernelspec": {
      "name": "python3",
      "display_name": "Python 3"
    },
    "language_info": {
      "name": "python"
    }
  },
  "cells": [
    {
      "cell_type": "markdown",
      "source": [
        "![kw](http://www.kw.ac.kr/ko/img/symbol01_01.jpg)\n"
      ],
      "metadata": {
        "id": "zwdNav1_69WS"
      }
    },
    {
      "cell_type": "markdown",
      "source": [
        "|과목||수강년도||학기||학점|\n",
        "|:---||---:||---:||---:|\n",
        "|회로이론1||2020||1학기||A0|\n",
        "|전기기계1||2020||1학기||B+|\n",
        "|회로이론2||2020||2학기||B+|\n",
        "|전기기계2||2020||2학기||A0|\n"
      ],
      "metadata": {
        "id": "82-BvEGd8ZU-"
      }
    },
    {
      "cell_type": "markdown",
      "source": [
        "$$f(x)=\\int_0^{10}\\frac{2x^2+4x+6}{x-2}$$"
      ],
      "metadata": {
        "id": "h8SdNI2L-K9E"
      }
    }
  ]
}